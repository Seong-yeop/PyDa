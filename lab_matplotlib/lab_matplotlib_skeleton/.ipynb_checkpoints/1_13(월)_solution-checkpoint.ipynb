{
 "cells": [
  {
   "cell_type": "code",
   "execution_count": 1,
   "metadata": {},
   "outputs": [],
   "source": [
    "import pandas as pd\n",
    "import numpy as np\n",
    "import datetime as dt\n",
    "import matplotlib.pyplot as plt\n",
    "import seaborn as sns\n",
    "\n",
    "#df = pd.read_csv(r'C:\\Users\\yeop\\Dropbox\\lab\\lab_pandas\\taxi_dataset\\nyc.2019-01.csv')\n",
    "df = pd.read_csv('nyc.2019-01.csv')"
   ]
  },
  {
   "cell_type": "code",
   "execution_count": 27,
   "metadata": {},
   "outputs": [],
   "source": [
    "df_loc = pd.read_csv('taxi+_zone_lookup.csv')"
   ]
  },
  {
   "cell_type": "code",
   "execution_count": null,
   "metadata": {},
   "outputs": [],
   "source": [
    "df['tpep_pickup_datetime'] = pd.td_datetime(df['tpep_pickup_datetime'])\n",
    "df['tpep_pickup_datetime'] = pd.td_datetime(df['tpep_pickup_datetime'])"
   ]
  },
  {
   "cell_type": "code",
   "execution_count": 42,
   "metadata": {},
   "outputs": [
    {
     "data": {
      "text/plain": [
       "0         2019-01-01 00:46:40\n",
       "1         2019-01-01 00:59:47\n",
       "2         2018-12-21 13:48:30\n",
       "3         2018-11-28 15:52:25\n",
       "4         2018-11-28 15:56:57\n",
       "                  ...        \n",
       "7667787   2019-01-31 23:57:36\n",
       "7667788   2019-01-31 23:32:03\n",
       "7667789   2019-01-31 23:36:36\n",
       "7667790   2019-01-31 23:14:53\n",
       "7667791   2019-01-31 23:12:49\n",
       "Name: tpep_pickup_datetime, Length: 7661494, dtype: datetime64[ns]"
      ]
     },
     "execution_count": 42,
     "metadata": {},
     "output_type": "execute_result"
    }
   ],
   "source": [
    "df.tpep_pickup_datetime # == df['tpep_pickup_datetime'] "
   ]
  },
  {
   "cell_type": "code",
   "execution_count": 11,
   "metadata": {},
   "outputs": [],
   "source": [
    "# lab 1\n",
    "df.tpep_pickup_datetime  = pd.to_datetime(df.tpep_pickup_datetime)\n",
    "df.tpep_dropoff_datetime = pd.to_datetime(df.tpep_dropoff_datetime)\n",
    "df['trip_duration'] = (df.tpep_dropoff_datetime - df.tpep_pickup_datetime).dt.total_seconds()/60"
   ]
  },
  {
   "cell_type": "code",
   "execution_count": 12,
   "metadata": {
    "scrolled": true
   },
   "outputs": [
    {
     "name": "stdout",
     "output_type": "stream",
     "text": [
      "0.016666666666666666\n",
      "1687.0333333333333\n",
      "16.494598144522026\n"
     ]
    },
    {
     "data": {
      "text/html": [
       "<div>\n",
       "<style scoped>\n",
       "    .dataframe tbody tr th:only-of-type {\n",
       "        vertical-align: middle;\n",
       "    }\n",
       "\n",
       "    .dataframe tbody tr th {\n",
       "        vertical-align: top;\n",
       "    }\n",
       "\n",
       "    .dataframe thead th {\n",
       "        text-align: right;\n",
       "    }\n",
       "</style>\n",
       "<table border=\"1\" class=\"dataframe\">\n",
       "  <thead>\n",
       "    <tr style=\"text-align: right;\">\n",
       "      <th></th>\n",
       "      <th>VendorID</th>\n",
       "      <th>tpep_pickup_datetime</th>\n",
       "      <th>tpep_dropoff_datetime</th>\n",
       "      <th>passenger_count</th>\n",
       "      <th>trip_distance</th>\n",
       "      <th>RatecodeID</th>\n",
       "      <th>store_and_fwd_flag</th>\n",
       "      <th>PULocationID</th>\n",
       "      <th>DOLocationID</th>\n",
       "      <th>payment_type</th>\n",
       "      <th>fare_amount</th>\n",
       "      <th>extra</th>\n",
       "      <th>mta_tax</th>\n",
       "      <th>tip_amount</th>\n",
       "      <th>tolls_amount</th>\n",
       "      <th>improvement_surcharge</th>\n",
       "      <th>total_amount</th>\n",
       "      <th>congestion_surcharge</th>\n",
       "      <th>trip_duration</th>\n",
       "    </tr>\n",
       "  </thead>\n",
       "  <tbody>\n",
       "    <tr>\n",
       "      <th>1715207</th>\n",
       "      <td>2</td>\n",
       "      <td>2019-01-08 20:18:52</td>\n",
       "      <td>2019-01-10 00:25:54</td>\n",
       "      <td>1</td>\n",
       "      <td>0.78</td>\n",
       "      <td>1</td>\n",
       "      <td>N</td>\n",
       "      <td>7</td>\n",
       "      <td>7</td>\n",
       "      <td>2</td>\n",
       "      <td>5.0</td>\n",
       "      <td>1.3</td>\n",
       "      <td>0.5</td>\n",
       "      <td>0.0</td>\n",
       "      <td>0.0</td>\n",
       "      <td>0.0</td>\n",
       "      <td>6.8</td>\n",
       "      <td>NaN</td>\n",
       "      <td>1687.033333</td>\n",
       "    </tr>\n",
       "  </tbody>\n",
       "</table>\n",
       "</div>"
      ],
      "text/plain": [
       "         VendorID tpep_pickup_datetime tpep_dropoff_datetime  passenger_count  \\\n",
       "1715207         2  2019-01-08 20:18:52   2019-01-10 00:25:54                1   \n",
       "\n",
       "         trip_distance  RatecodeID store_and_fwd_flag  PULocationID  \\\n",
       "1715207           0.78           1                  N             7   \n",
       "\n",
       "         DOLocationID  payment_type  fare_amount  extra  mta_tax  tip_amount  \\\n",
       "1715207             7             2          5.0    1.3      0.5         0.0   \n",
       "\n",
       "         tolls_amount  improvement_surcharge  total_amount  \\\n",
       "1715207           0.0                    0.0           6.8   \n",
       "\n",
       "         congestion_surcharge  trip_duration  \n",
       "1715207                   NaN    1687.033333  "
      ]
     },
     "execution_count": 12,
     "metadata": {},
     "output_type": "execute_result"
    }
   ],
   "source": [
    "# lab 2\n",
    "df = df[(df.trip_duration > 0) & (df.trip_duration < 2000)]\n",
    "\n",
    "print(df.trip_duration.min())\n",
    "print(df.trip_duration.max())\n",
    "print(df.trip_duration.mean())\n",
    "\n",
    "df[df.trip_duration.max() == df.trip_duration]"
   ]
  },
  {
   "cell_type": "code",
   "execution_count": 13,
   "metadata": {},
   "outputs": [
    {
     "data": {
      "text/plain": [
       "Thursday     1350425\n",
       "Wednesday    1258658\n",
       "Tuesday      1202878\n",
       "Friday       1081875\n",
       "Saturday     1007030\n",
       "Monday        903702\n",
       "Sunday        856926\n",
       "Name: pickup_day, dtype: int64"
      ]
     },
     "execution_count": 13,
     "metadata": {},
     "output_type": "execute_result"
    }
   ],
   "source": [
    "# lab 3\n",
    "df['pickup_day'] = df.tpep_pickup_datetime.dt.day_name()\n",
    "df.pickup_day.value_counts()"
   ]
  },
  {
   "cell_type": "code",
   "execution_count": 14,
   "metadata": {},
   "outputs": [
    {
     "data": {
      "text/plain": [
       "1    5451155\n",
       "2    1113443\n",
       "5     323760\n",
       "3     314550\n",
       "6     200770\n",
       "4     140649\n",
       "0     117111\n",
       "8         28\n",
       "7         19\n",
       "9          9\n",
       "Name: passenger_count, dtype: int64"
      ]
     },
     "execution_count": 14,
     "metadata": {},
     "output_type": "execute_result"
    }
   ],
   "source": [
    "# lab 4\n",
    "df.passenger_count.value_counts()"
   ]
  },
  {
   "cell_type": "code",
   "execution_count": 46,
   "metadata": {},
   "outputs": [
    {
     "data": {
      "text/plain": [
       "Int64Index([18, 19, 17, 15, 14, 20, 16, 21, 13, 12, 11,  8, 22,  9, 10,  7, 23,\n",
       "             0,  6,  1,  2,  3,  5,  4],\n",
       "           dtype='int64')"
      ]
     },
     "execution_count": 46,
     "metadata": {},
     "output_type": "execute_result"
    }
   ],
   "source": [
    "# lab 5\n",
    "df['pickup_hour'] = df['tpep_pickup_datetime'].dt.hour\n",
    "df['pickup_hour'].value_counts().index"
   ]
  },
  {
   "cell_type": "code",
   "execution_count": 48,
   "metadata": {},
   "outputs": [
    {
     "data": {
      "text/plain": [
       "VendorID\n",
       "2    12.507774\n",
       "1    12.016892\n",
       "4    11.563717\n",
       "Name: fare_amount, dtype: float64"
      ]
     },
     "execution_count": 48,
     "metadata": {},
     "output_type": "execute_result"
    }
   ],
   "source": [
    "# lab 6 - 1\n",
    "df.groupby('VendorID').mean().fare_amount.sort_values(ascending = False) ##건당 인건비"
   ]
  },
  {
   "cell_type": "code",
   "execution_count": 44,
   "metadata": {},
   "outputs": [
    {
     "data": {
      "text/plain": [
       "VendorID  tpep_pickup_datetime\n",
       "1         1                        875192.77\n",
       "          2                        940373.60\n",
       "          3                       1045803.76\n",
       "          4                       1066305.85\n",
       "          5                        979844.30\n",
       "                                     ...    \n",
       "4         27                        24433.20\n",
       "          28                        22182.48\n",
       "          29                        25598.50\n",
       "          30                        26753.21\n",
       "          31                        27387.26\n",
       "Name: fare_amount, Length: 93, dtype: float64"
      ]
     },
     "execution_count": 44,
     "metadata": {},
     "output_type": "execute_result"
    }
   ],
   "source": [
    "# lab 6 - 2\n",
    "df.groupby(['VendorID', df['tpep_pickup_datetime'].dt.day]).sum()['fare_amount']\n",
    "#df.VendorID.value_counts()"
   ]
  },
  {
   "cell_type": "code",
   "execution_count": 26,
   "metadata": {},
   "outputs": [
    {
     "data": {
      "text/html": [
       "<div>\n",
       "<style scoped>\n",
       "    .dataframe tbody tr th:only-of-type {\n",
       "        vertical-align: middle;\n",
       "    }\n",
       "\n",
       "    .dataframe tbody tr th {\n",
       "        vertical-align: top;\n",
       "    }\n",
       "\n",
       "    .dataframe thead th {\n",
       "        text-align: right;\n",
       "    }\n",
       "</style>\n",
       "<table border=\"1\" class=\"dataframe\">\n",
       "  <thead>\n",
       "    <tr style=\"text-align: right;\">\n",
       "      <th></th>\n",
       "      <th>LocationID</th>\n",
       "      <th>Borough</th>\n",
       "      <th>Zone</th>\n",
       "      <th>service_zone</th>\n",
       "    </tr>\n",
       "  </thead>\n",
       "  <tbody>\n",
       "    <tr>\n",
       "      <th>0</th>\n",
       "      <td>1</td>\n",
       "      <td>EWR</td>\n",
       "      <td>Newark Airport</td>\n",
       "      <td>EWR</td>\n",
       "    </tr>\n",
       "    <tr>\n",
       "      <th>1</th>\n",
       "      <td>2</td>\n",
       "      <td>Queens</td>\n",
       "      <td>Jamaica Bay</td>\n",
       "      <td>Boro Zone</td>\n",
       "    </tr>\n",
       "    <tr>\n",
       "      <th>2</th>\n",
       "      <td>3</td>\n",
       "      <td>Bronx</td>\n",
       "      <td>Allerton/Pelham Gardens</td>\n",
       "      <td>Boro Zone</td>\n",
       "    </tr>\n",
       "    <tr>\n",
       "      <th>3</th>\n",
       "      <td>4</td>\n",
       "      <td>Manhattan</td>\n",
       "      <td>Alphabet City</td>\n",
       "      <td>Yellow Zone</td>\n",
       "    </tr>\n",
       "    <tr>\n",
       "      <th>4</th>\n",
       "      <td>5</td>\n",
       "      <td>Staten Island</td>\n",
       "      <td>Arden Heights</td>\n",
       "      <td>Boro Zone</td>\n",
       "    </tr>\n",
       "    <tr>\n",
       "      <th>...</th>\n",
       "      <td>...</td>\n",
       "      <td>...</td>\n",
       "      <td>...</td>\n",
       "      <td>...</td>\n",
       "    </tr>\n",
       "    <tr>\n",
       "      <th>260</th>\n",
       "      <td>261</td>\n",
       "      <td>Manhattan</td>\n",
       "      <td>World Trade Center</td>\n",
       "      <td>Yellow Zone</td>\n",
       "    </tr>\n",
       "    <tr>\n",
       "      <th>261</th>\n",
       "      <td>262</td>\n",
       "      <td>Manhattan</td>\n",
       "      <td>Yorkville East</td>\n",
       "      <td>Yellow Zone</td>\n",
       "    </tr>\n",
       "    <tr>\n",
       "      <th>262</th>\n",
       "      <td>263</td>\n",
       "      <td>Manhattan</td>\n",
       "      <td>Yorkville West</td>\n",
       "      <td>Yellow Zone</td>\n",
       "    </tr>\n",
       "    <tr>\n",
       "      <th>263</th>\n",
       "      <td>264</td>\n",
       "      <td>Unknown</td>\n",
       "      <td>NV</td>\n",
       "      <td>NaN</td>\n",
       "    </tr>\n",
       "    <tr>\n",
       "      <th>264</th>\n",
       "      <td>265</td>\n",
       "      <td>Unknown</td>\n",
       "      <td>NaN</td>\n",
       "      <td>NaN</td>\n",
       "    </tr>\n",
       "  </tbody>\n",
       "</table>\n",
       "<p>265 rows × 4 columns</p>\n",
       "</div>"
      ],
      "text/plain": [
       "     LocationID        Borough                     Zone service_zone\n",
       "0             1            EWR           Newark Airport          EWR\n",
       "1             2         Queens              Jamaica Bay    Boro Zone\n",
       "2             3          Bronx  Allerton/Pelham Gardens    Boro Zone\n",
       "3             4      Manhattan            Alphabet City  Yellow Zone\n",
       "4             5  Staten Island            Arden Heights    Boro Zone\n",
       "..          ...            ...                      ...          ...\n",
       "260         261      Manhattan       World Trade Center  Yellow Zone\n",
       "261         262      Manhattan           Yorkville East  Yellow Zone\n",
       "262         263      Manhattan           Yorkville West  Yellow Zone\n",
       "263         264        Unknown                       NV          NaN\n",
       "264         265        Unknown                      NaN          NaN\n",
       "\n",
       "[265 rows x 4 columns]"
      ]
     },
     "execution_count": 26,
     "metadata": {},
     "output_type": "execute_result"
    }
   ],
   "source": [
    "# lab 7 \n",
    "df_loc"
   ]
  },
  {
   "cell_type": "code",
   "execution_count": 49,
   "metadata": {},
   "outputs": [
    {
     "data": {
      "text/plain": [
       "Upper East Side South           332310\n",
       "Upper East Side North           322858\n",
       "Midtown Center                  312226\n",
       "Midtown East                    277025\n",
       "Times Sq/Theatre District       263463\n",
       "Penn Station/Madison Sq West    260523\n",
       "Clinton East                    240763\n",
       "Murray Hill                     238850\n",
       "Union Sq                        237519\n",
       "Lincoln Square East             235043\n",
       "Name: Zone, dtype: int64"
      ]
     },
     "execution_count": 49,
     "metadata": {},
     "output_type": "execute_result"
    }
   ],
   "source": [
    "# lab 7 - 1\n",
    "df_loc['PULocationID'] = df_loc.LocationID\n",
    "#print(pd.merge(df,df_loc))\n",
    "df_puloc = df.merge(df_loc)\n",
    "#df.PULocationID.value_counts()\n",
    "df_puloc.drop('LocationID', axis = 1, inplace=True)\n",
    "df_puloc.Zone.value_counts(ascending=False).nlargest(10)"
   ]
  },
  {
   "cell_type": "code",
   "execution_count": 11,
   "metadata": {},
   "outputs": [
    {
     "data": {
      "text/plain": [
       "NV                       137273\n",
       "Upper East Side North     47709\n",
       "Upper East Side South     39903\n",
       "Upper West Side South     19460\n",
       "Clinton East              18327\n",
       "Name: Zone, dtype: int64"
      ]
     },
     "execution_count": 11,
     "metadata": {},
     "output_type": "execute_result"
    }
   ],
   "source": [
    "# lab 7 - 2\n",
    "df_loc['DOLocationID'] = df_loc.LocationID\n",
    "df_doloc = df.merge(df_loc)\n",
    "df_doloc.drop('LocationID', axis = 1, inplace = True)\n",
    "df_doloc.Zone.value_counts(ascending=False).nlargest(5)\n",
    "# df_doloc.Zone.value_counts(ascending=False).nlargest(5).index.tolist() # . index를 반환"
   ]
  },
  {
   "cell_type": "code",
   "execution_count": 50,
   "metadata": {},
   "outputs": [
    {
     "data": {
      "text/plain": [
       "array([[4., 3.],\n",
       "       [4., 3.]])"
      ]
     },
     "execution_count": 50,
     "metadata": {},
     "output_type": "execute_result"
    }
   ],
   "source": [
    "# lab 8\n",
    "def convolution2d(x, kernel, stride=1):\n",
    "    \"\"\"\n",
    "    Convolution 2D : Do Convolution on 'x' with filter = 'kernel', stride = 'stride'\n",
    "    입력 x에 대해 'kernel'을 filter로 사용하여 2D Convolution을 수행하시오.\n",
    "    [Input]\n",
    "    x: 2D array\n",
    "    - Shape : (Height, Width)\n",
    "    kernel : 2D convolution filter\n",
    "    - Shape : (Kernel size, Kernel size)\n",
    "    stride : Stride size (default = 1)\n",
    "    - dtype : int\n",
    "    [Output]\n",
    "    conv_out : convolution result\n",
    "    - Shape : (Conv_Height, Conv_Width)\n",
    "    - Conv_Height & Conv_Width can be calculated using 'Height', 'Width', 'Kernel size', 'Stride'\n",
    "    \"\"\"\n",
    "    height, width = x.shape\n",
    "    kernel_size = kernel.shape[0]\n",
    "    conv_out = None\n",
    "    # =============================== EDIT HERE ===============================\n",
    "    m, n = height + 1 - kernel_size, width + 1 - kernel_size\n",
    "    conv_out = np.zeros((int((height-kernel_size)/ stride)+1, int((width-kernel_size) / stride)+1))\n",
    "    k = 0\n",
    "    for i in range(0, m, stride):\n",
    "        l = 0\n",
    "        for j in range(0, n, stride):\n",
    "            conv_out[k][l] = np.sum(x[i:i + kernel_size, j:j + kernel_size] * kernel)\n",
    "            l = l + 1\n",
    "        k = k + 1\n",
    "    # =========================================================================\n",
    "    return conv_out\n",
    "\n",
    "x = np.array([[1,0,0,0], [1,1,1,1], [0,1,0,0], [1,1,0,1]])\n",
    "kernel = np.array([[1,0,0], [0,1,1], [1,1,1]])\n",
    "\n",
    "y = convolution2d(x,kernel)\n",
    "y"
   ]
  },
  {
   "cell_type": "code",
   "execution_count": null,
   "metadata": {},
   "outputs": [],
   "source": []
  }
 ],
 "metadata": {
  "kernelspec": {
   "display_name": "Python 3",
   "language": "python",
   "name": "python3"
  },
  "language_info": {
   "codemirror_mode": {
    "name": "ipython",
    "version": 3
   },
   "file_extension": ".py",
   "mimetype": "text/x-python",
   "name": "python",
   "nbconvert_exporter": "python",
   "pygments_lexer": "ipython3",
   "version": "3.7.6"
  }
 },
 "nbformat": 4,
 "nbformat_minor": 2
}
