{
 "cells": [
  {
   "cell_type": "code",
   "execution_count": 5,
   "metadata": {},
   "outputs": [
    {
     "name": "stdout",
     "output_type": "stream",
     "text": [
      "wow 010-2220-3468 300\n",
      "wow 010-2220-3468 150\n"
     ]
    }
   ],
   "source": [
    "class BankAccount:\n",
    "    name = \"\"\n",
    "    accountNumber = 0 \n",
    "    amount = 0\n",
    "    \n",
    "    def __init__(self,name=\"\",accountNumber=0,amout=0):\n",
    "        self.name = \"\"\n",
    "        self.accountNumber = \"\"\n",
    "        self.amount = 0\n",
    "        \n",
    "    def deposit(self, money):\n",
    "        self.amount += money\n",
    "    \n",
    "    def withdraw(self, money):\n",
    "        if(self.amount < money):\n",
    "            print(\"do not withdraw money\")\n",
    "            return\n",
    "        self.amount -= money\n",
    "    \n",
    "    def print(self):\n",
    "        print(self.name, self.accountNumber, self.amount)\n",
    "        \n",
    "    \n",
    "ba = BankAccount()\n",
    "ba.name = \"wow\"\n",
    "ba.accountNumber = \"010-2220-3468\"\n",
    "ba.amount = 100\n",
    "\n",
    "ba.deposit(200)\n",
    "ba.print()\n",
    "ba.withdraw(150)\n",
    "ba.print()"
   ]
  },
  {
   "cell_type": "code",
   "execution_count": null,
   "metadata": {},
   "outputs": [],
   "source": []
  }
 ],
 "metadata": {
  "kernelspec": {
   "display_name": "Python 3",
   "language": "python",
   "name": "python3"
  },
  "language_info": {
   "codemirror_mode": {
    "name": "ipython",
    "version": 3
   },
   "file_extension": ".py",
   "mimetype": "text/x-python",
   "name": "python",
   "nbconvert_exporter": "python",
   "pygments_lexer": "ipython3",
   "version": "3.7.4"
  }
 },
 "nbformat": 4,
 "nbformat_minor": 2
}
