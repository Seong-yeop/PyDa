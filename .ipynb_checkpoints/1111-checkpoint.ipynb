{
 "cells": [
  {
   "cell_type": "code",
   "execution_count": 5,
   "metadata": {},
   "outputs": [
    {
     "name": "stdout",
     "output_type": "stream",
     "text": [
      "17\n",
      "18\n",
      "20\n"
     ]
    }
   ],
   "source": [
    "list_fruit = ['apple', 'banana', 'tomato']\n",
    "list_animal = ['bear', 'elephant', 'monkey']\n",
    "list_instrument = ['guitar', 'piano', 'harmonica']\n",
    "\n",
    "def len_word(wordlist):\n",
    "    len_sum = 0\n",
    "    for word in wordlist:\n",
    "        len_sum += len(word)\n",
    "    return len_sum\n",
    "\n",
    "print(len_word(list_fruit))\n",
    "print(len_word(list_animal))\n",
    "print(len_word(list_instrument))\n",
    "        "
   ]
  },
  {
   "cell_type": "code",
   "execution_count": null,
   "metadata": {},
   "outputs": [],
   "source": []
  },
  {
   "cell_type": "code",
   "execution_count": 11,
   "metadata": {},
   "outputs": [
    {
     "name": "stdout",
     "output_type": "stream",
     "text": [
      "계약금액, 사용개월, 카드코드를 입력해주세요10 20 30\n",
      "7.5\n"
     ]
    }
   ],
   "source": [
    "def periodDiscount(contractPrice, period):\n",
    "    if(period>12):\n",
    "        return contractPrice * 20/100\n",
    "    elif(period>6):\n",
    "        return contractPrice * 12/100\n",
    "    else:\n",
    "        return contractPrice * 0 / 100\n",
    "def creditCardDiscount(contractPrice, cardCode):\n",
    "    if(cardCode == 13):\n",
    "        return contractPrice * 12/100\n",
    "    elif(cardCode == 12):\n",
    "        return contractPrice * 8/100\n",
    "    else:\n",
    "        return contractPrice * 5/100\n",
    "        \n",
    "contractPrice, period, cardCode = map(float,input('계약금액, 사용개월, 카드코드를 입력해주세요').split())\n",
    "\n",
    "finalPrice = contractPrice - periodDiscount(contractPrice,period) - creditCardDiscount(contractPrice,cardCode)\n",
    "print(finalPrice)"
   ]
  },
  {
   "cell_type": "code",
   "execution_count": null,
   "metadata": {},
   "outputs": [],
   "source": []
  }
 ],
 "metadata": {
  "kernelspec": {
   "display_name": "Python 3",
   "language": "python",
   "name": "python3"
  },
  "language_info": {
   "codemirror_mode": {
    "name": "ipython",
    "version": 3
   },
   "file_extension": ".py",
   "mimetype": "text/x-python",
   "name": "python",
   "nbconvert_exporter": "python",
   "pygments_lexer": "ipython3",
   "version": "3.7.4"
  }
 },
 "nbformat": 4,
 "nbformat_minor": 2
}
