{
 "cells": [
  {
   "cell_type": "code",
   "execution_count": 5,
   "metadata": {},
   "outputs": [],
   "source": [
    "import nltk\n",
    "nltk.download(\"book\", quiet=True)\n",
    "from nltk.book import *"
   ]
  },
  {
   "cell_type": "code",
   "execution_count": 4,
   "metadata": {},
   "outputs": [
    {
     "name": "stdout",
     "output_type": "stream",
     "text": [
      "Displaying 25 of 1725 matches:\n",
      "each them by what name a whale - fish is to be called in our tongue leaving ou\n",
      " of the word , you deliver that which is not true .\" -- HACKLUYT \" WHALE . ...\n",
      "... Sw . and Dan . HVAL . This animal is named from roundness or rolling ; for\n",
      "dness or rolling ; for in Dan . HVALT is arched or vaulted .\" -- WEBSTER ' S D\n",
      "BSTER ' S DICTIONARY \" WHALE . ... It is more immediately from the Dut . and G\n",
      " JONAH . \" There go the ships ; there is that Leviathan whom thou hast made to\n",
      "t ; and he shall slay the dragon that is in the sea .\" -- ISAIAH \" And what th\n",
      "ly , let us fly ! Old Nick take me if is not Leviathan described by the noble \n",
      " .\" \" The sovereignest thing on earth is parmacetti for an inward bruise .\" --\n",
      "ACE TO GONDIBERT . \" What spermacetti is , men might justly doubt , since the \n",
      "TTLE OF THE SUMMER ISLANDS . \" By art is created that great Leviathan , called\n",
      " State --( in Latin , Civitas ) which is but an artificial man .\" -- OPENING S\n",
      "S ANNUS MIRABILIS . \" While the whale is floating at the stern of the ship , t\n",
      "ale can ' t open his mouth , but that is a fable . ... They frequently climb u\n",
      "ort that was killed by any man , such is his fierceness and swiftness .\" -- RI\n",
      "29 . \"... and the breath of the whale is frequendy attended with such an insup\n",
      "mptible in the comparison . The whale is doubtless the largest animal in creat\n",
      "cetti Whale found by the Nantuckois , is an active , fierce animal , and requi\n",
      " \" And pray , sir , what in the world is equal to it ?\" -- EDMUND BURKE ' S RE\n",
      "g the seas from pirates and robbers , is the right to royal fish , which are w\n",
      "L SIZED ONE .) \" The aorta of a whale is larger in the bore than the main pipe\n",
      "ring in its passage through that pipe is inferior in impetus and velocity to t\n",
      "\" -- PALEY ' S THEOLOGY . \" The whale is a mammiferous animal without hind fee\n",
      " whale than this In the vast Atlantic is ; Not a fatter fish than he , Flounde\n",
      "ved : there -- pointing to the sea -- is a green pasture where our children ' \n",
      "<Text: Moby Dick by Herman Melville 1851>\n"
     ]
    }
   ],
   "source": []
  },
  {
   "cell_type": "code",
   "execution_count": 2,
   "metadata": {},
   "outputs": [],
   "source": [
    "from html.parser import HTMLParser"
   ]
  },
  {
   "cell_type": "code",
   "execution_count": 41,
   "metadata": {},
   "outputs": [],
   "source": [
    "import requests\n",
    "import re\n",
    "from bs4 import BeautifulSoup"
   ]
  },
  {
   "cell_type": "code",
   "execution_count": 47,
   "metadata": {},
   "outputs": [
    {
     "data": {
      "text/plain": [
       "['서울대학교 컴퓨터공학부',\n",
       " '서울대학교 컴퓨터공학부',\n",
       " 'ICCV 2019에서 진행된 인공지능 세계대회에서 김건희교수님이 이끄는 리플에이아이-서울대 팀이 우승을 하였습니다.\\n',\n",
       " '서울대학교 컴퓨터공학부에서는 매 학기 졸업생을 대상으로 우수학위논문상을 수여합니다.\\n',\n",
       " '서울대학교-SCSC',\n",
       " '서울대학교']"
      ]
     },
     "execution_count": 47,
     "metadata": {},
     "output_type": "execute_result"
    }
   ],
   "source": [
    "url = 'https://cse.snu.ac.kr' \n",
    "page = requests.get(url)\n",
    "\n",
    "soup = BeautifulSoup(page.text, 'html.parser')\n",
    "\n",
    "soup.find_all(text=re.compile('서울대'))\n",
    "\n"
   ]
  },
  {
   "cell_type": "code",
   "execution_count": 49,
   "metadata": {},
   "outputs": [
    {
     "name": "stdout",
     "output_type": "stream",
     "text": [
      "서울대\n",
      "서울대\n",
      "서울대\n",
      "서울대\n",
      "서울대\n",
      "서울대\n"
     ]
    }
   ],
   "source": [
    "\n",
    "results = re.findall('서울대',page.text)\n",
    "\n",
    "for i in results:\n",
    "    print(i)"
   ]
  },
  {
   "cell_type": "code",
   "execution_count": 56,
   "metadata": {},
   "outputs": [
    {
     "name": "stdout",
     "output_type": "stream",
     "text": [
      "<function <lambda> at 0x000001EE973D7558>\n",
      "wow\n"
     ]
    }
   ],
   "source": [
    "sprint = lambda string : print(string)\n",
    "print(lambda string : string)\n",
    "x = \"wow\"\n",
    "(lambda string : print(string))(x)"
   ]
  },
  {
   "cell_type": "code",
   "execution_count": 57,
   "metadata": {},
   "outputs": [
    {
     "ename": "IndentationError",
     "evalue": "expected an indented block (<ipython-input-57-29d68b679445>, line 3)",
     "output_type": "error",
     "traceback": [
      "\u001b[1;36m  File \u001b[1;32m\"<ipython-input-57-29d68b679445>\"\u001b[1;36m, line \u001b[1;32m3\u001b[0m\n\u001b[1;33m    funct( *args )\u001b[0m\n\u001b[1;37m        ^\u001b[0m\n\u001b[1;31mIndentationError\u001b[0m\u001b[1;31m:\u001b[0m expected an indented block\n"
     ]
    }
   ],
   "source": [
    "#A REGULAR FUNCTION\n",
    "def guru( funct, *args ):\n",
    "funct( *args )\n",
    "def printer_one( arg ):\n",
    "return print (arg)\n",
    "def printer_two( arg ):\n",
    "print(arg)\n",
    "#CALL A REGULAR FUNCTION \n",
    "guru( printer_one, 'printer 1 REGULAR CALL' )\n",
    "guru( printer_two, 'printer 2 REGULAR CALL \\n' )\n",
    "#CALL A REGULAR FUNCTION THRU A LAMBDA\n",
    "guru(lambda: printer_one('printer 1 LAMBDA CALL'))\n",
    "guru(lambda: printer_two('printer 2 LAMBDA CALL'))"
   ]
  },
  {
   "cell_type": "code",
   "execution_count": null,
   "metadata": {},
   "outputs": [],
   "source": []
  }
 ],
 "metadata": {
  "kernelspec": {
   "display_name": "Python 3",
   "language": "python",
   "name": "python3"
  },
  "language_info": {
   "codemirror_mode": {
    "name": "ipython",
    "version": 3
   },
   "file_extension": ".py",
   "mimetype": "text/x-python",
   "name": "python",
   "nbconvert_exporter": "python",
   "pygments_lexer": "ipython3",
   "version": "3.7.4"
  }
 },
 "nbformat": 4,
 "nbformat_minor": 2
}
