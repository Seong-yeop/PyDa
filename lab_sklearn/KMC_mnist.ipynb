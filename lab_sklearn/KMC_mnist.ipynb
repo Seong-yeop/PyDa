{
 "cells": [
  {
   "cell_type": "code",
   "execution_count": 60,
   "metadata": {},
   "outputs": [],
   "source": [
    "import numpy as np\n",
    "from sklearn import datasets\n",
    "from sklearn.cluster import KMeans\n",
    "from sklearn.model_selection import train_test_split\n",
    "import matplotlib.pyplot as plt"
   ]
  },
  {
   "cell_type": "code",
   "execution_count": 61,
   "metadata": {},
   "outputs": [],
   "source": [
    "mnist = datasets.load_digits()"
   ]
  },
  {
   "cell_type": "code",
   "execution_count": 90,
   "metadata": {},
   "outputs": [
    {
     "name": "stdout",
     "output_type": "stream",
     "text": [
      "[3 5 5 9 5 9 0 9 8 5 3 6 1 8 6 2 2 4 2 5 5 7 4 2 2 3 8 2 3 5 3 6 7 3 5 6 6\n",
      " 0 5 6 7 5 1 5 6 5 7 3 2 2 9 4 0 3 6 5 4 8 8 1 8 3 1 5 9 8 9 8 0 4 8 1 9 5\n",
      " 0 4 5 7 4 5 8 8 3 4 1 8 6 3 3 4 1 9 6 0 0 3 8 3 4 1 2 0 1 8 4 9 0 8 0 3 8\n",
      " 2 3 9 9 1 0 5 3 0 1 2 0 2 3 9 1 1 5 9 8 3 3 8 9 8 4 5 3 9 4 6 8 9 3 9 0 8\n",
      " 4 1 2 3 1 3 2 6 4 0 1 9 6 6 2 3 8 2 9 3 2 7 8 9 0 6 1 3 5 2 0 1 8 8 2 5 1\n",
      " 1 6 2 5 2 6 8 9 1 7 4 3 3 5 2 8 4 3 6 7 9 4 8 9 4 6 0 6 4 6 0 0 1 5 4 1 0\n",
      " 9 9 3 0 3 4 4 8 4 6 4 2 1 0 9 8 1 2 6 6 0 1 9 5 4 5 4 3 8 6 7 4 9 1 9 3 8\n",
      " 5 7 5 4 3 2 2 5 9 9 2 5 1 4 5 3 5 2 3 2 4 5 5 1 3 1 6 5 6 5 8 8 8 1 7 5 8\n",
      " 3 1 0 6 4 4 0 4 1 4 1 2 2 4 9 5 1 3 2 2 9 4 6 3 5 4 2 3 8 5 9 3 9 1 5 9 0\n",
      " 5 4 5 0 2 2 9 9 4 5 4 5 0 3 7 1 8 0 5 4 3 3 6 2 5 5 3]\n",
      "[[ 0.          0.19897959  6.39285714 ... 10.18877551  2.35204082\n",
      "   0.1377551 ]\n",
      " [ 0.          0.11428571  3.88       ...  5.04        0.83428571\n",
      "   0.01142857]\n",
      " [ 0.          0.11428571  3.88       ...  5.04        0.83428571\n",
      "   0.01142857]\n",
      " ...\n",
      " [ 0.          0.11428571  3.88       ...  5.04        0.83428571\n",
      "   0.01142857]\n",
      " [ 0.          0.11428571  3.88       ...  5.04        0.83428571\n",
      "   0.01142857]\n",
      " [ 0.          0.19897959  6.39285714 ... 10.18877551  2.35204082\n",
      "   0.1377551 ]]\n",
      "[9 1 1 3 1 3 4 9 5 8 8 0 2 5 0 4 4 6 4 1 1 1 6 4 4 9 5 4 3 1 5 0 8 5 1 0 0\n",
      " 3 8 0 1 8 2 1 0 1 9 9 4 4 3 6 7 8 0 1 6 5 5 2 5 9 1 8 3 5 3 9 7 6 5 2 3 1\n",
      " 7 6 1 1 6 8 5 9 9 6 2 5 0 8 9 6 1 3 0 7 7 5 5 8 6 2 4 7 2 5 6 3 7 5 3 5 5\n",
      " 4 9 3 3 2 7 8 9 8 2 4 7 4 5 3 2 2 8 3 5 9 9 5 2 7 6 8 9 3 6 0 5 3 9 3 7 5\n",
      " 6 2 4 3 2 9 4 0 6 7 2 3 0 0 4 5 5 4 1 9 4 1 5 5 7 0 2 3 8 4 7 2 5 5 4 8 2\n",
      " 2 0 4 8 4 0 5 3 2 9 6 8 8 1 4 5 6 5 0 1 3 6 5 2 8 0 7 0 6 0 8 7 2 3 6 2 7\n",
      " 3 3 9 9 5 6 6 7 6 0 6 4 2 7 3 5 2 4 0 0 7 2 3 8 6 1 6 9 5 0 1 6 3 2 3 9 5\n",
      " 8 1 1 6 9 4 4 8 3 3 4 1 2 6 6 9 1 4 9 4 6 8 1 2 9 2 0 8 0 1 5 5 5 2 9 8 5\n",
      " 9 2 7 0 6 6 7 6 2 6 1 4 4 6 2 1 2 9 4 4 3 6 0 9 8 6 4 8 5 1 3 5 3 2 8 3 7\n",
      " 1 6 1 7 4 4 3 2 6 1 6 8 7 9 1 2 5 7 8 6 9 8 0 4 1 8 5]\n",
      "(array([  6,  37,  52,  68,  74,  93,  94, 101, 106, 108, 116, 119, 122,\n",
      "       146, 157, 172, 178, 211, 215, 216, 221, 225, 235, 242, 298, 302,\n",
      "       332, 336, 345, 350]),)\n",
      "(array([ 12,  42,  59,  62,  71,  84,  90,  99, 102, 115, 120, 126, 127,\n",
      "       149, 152, 158, 174, 179, 184, 185, 193, 217, 220, 234, 238, 243,\n",
      "       255, 271, 282, 284, 292, 297, 304, 306, 312, 329, 348]),)\n",
      "(array([ 15,  16,  18,  23,  24,  27,  48,  49, 100, 111, 121, 123, 150,\n",
      "       154, 162, 165, 168, 177, 182, 187, 189, 199, 233, 239, 264, 265,\n",
      "       269, 276, 278, 307, 308, 314, 315, 322, 337, 338, 356]),)\n",
      "(array([  0,  10,  25,  28,  30,  33,  47,  53,  61,  82,  87,  88,  95,\n",
      "        97, 109, 112, 118, 124, 131, 132, 138, 144, 151, 153, 163, 167,\n",
      "       175, 196, 197, 202, 224, 226, 249, 257, 263, 274, 277, 283, 296,\n",
      "       313, 319, 323, 327, 346, 353, 354, 359]),)\n",
      "(array([ 17,  22,  51,  56,  69,  75,  78,  83,  89,  98, 104, 136, 140,\n",
      "       148, 156, 195, 201, 206, 209, 213, 219, 227, 228, 230, 232, 246,\n",
      "       248, 253, 262, 272, 279, 300, 301, 303, 305, 309, 317, 321, 334,\n",
      "       341, 343, 352]),)\n",
      "(array([  1,   2,   4,   9,  19,  20,  29,  34,  38,  41,  43,  45,  55,\n",
      "        63,  73,  76,  79, 117, 128, 137, 176, 183, 188, 198, 218, 245,\n",
      "       247, 259, 261, 266, 270, 273, 275, 280, 281, 286, 288, 294, 311,\n",
      "       320, 325, 330, 333, 335, 342, 344, 351, 357, 358]),)\n",
      "(array([ 11,  14,  31,  35,  36,  39,  44,  54,  86,  92, 141, 155, 160,\n",
      "       161, 173, 186, 190, 203, 210, 212, 214, 231, 240, 241, 251, 285,\n",
      "       287, 299, 318, 355]),)\n",
      "(array([ 21,  32,  40,  46,  77, 169, 194, 204, 252, 260, 293, 347]),)\n",
      "(array([  8,  13,  26,  57,  58,  60,  65,  67,  70,  80,  81,  85,  96,\n",
      "       103, 107, 110, 130, 133, 135, 142, 147, 164, 170, 180, 181, 191,\n",
      "       200, 207, 229, 237, 250, 258, 289, 290, 291, 295, 324, 349]),)\n",
      "(array([  3,   5,   7,  50,  64,  66,  72,  91, 105, 113, 114, 125, 129,\n",
      "       134, 139, 143, 145, 159, 166, 171, 192, 205, 208, 222, 223, 236,\n",
      "       244, 254, 256, 267, 268, 310, 316, 326, 328, 331, 339, 340]),)\n"
     ]
    }
   ],
   "source": [
    "trainData, testData, trainLabel, testLabel = train_test_split(np.array(mnist.data), mnist.target, \n",
    "                                                              test_size=0.2, random_state = 13)\n",
    "\n",
    "\n",
    "kmeans = KMeans(n_clusters = 10, random_state = 13)\n",
    "clusters = kmeans.fit(trainData, trainLabel)\n",
    "\n",
    "#print(trainData.shape)\n",
    "\n",
    "#print(kmeans.cluster_centers_.shape) # The result is 10 clusters in 64dimensions\n",
    "\n",
    "pred = kmeans.predict(testData)\n",
    "#print(pred)\n",
    "\n",
    "print(kmeans.cluster_centers_[pred])\n",
    "print(testLabel)\n",
    "\n",
    "\n",
    "for i in range(10):\n",
    "    #indices = np.where(pred == i)\n",
    "    print(indices)"
   ]
  },
  {
   "cell_type": "code",
   "execution_count": 58,
   "metadata": {},
   "outputs": [
    {
     "name": "stdout",
     "output_type": "stream",
     "text": [
      "[0 1 2 ... 8 9 8]\n"
     ]
    }
   ],
   "source": [
    "print(mnist.target)"
   ]
  },
  {
   "cell_type": "code",
   "execution_count": 50,
   "metadata": {},
   "outputs": [
    {
     "data": {
      "image/png": "[encoded data removed]",
      "text/plain": [
       "<Figure size 720x360 with 10 Axes>"
      ]
     },
     "metadata": {
      "needs_background": "light"
     },
     "output_type": "display_data"
    }
   ],
   "source": [
    "\n",
    "\n",
    "fig, ax = plt.subplots(2,5, figsize=(10,5))\n",
    "\n",
    "centers = kmeans.cluster_centers_.reshape((10,8,8))\n",
    "for axi, center in zip(ax.flat, centers):\n",
    "    axi.imshow(center)\n",
    "\n",
    "plt.tight_layout()\n",
    "\n",
    "# 이건 학습된 모델인거 같고 "
   ]
  },
  {
   "cell_type": "code",
   "execution_count": 59,
   "metadata": {},
   "outputs": [
    {
     "name": "stdout",
     "output_type": "stream",
     "text": [
      "0\n",
      "[False  True  True False  True False False False False False False False\n",
      " False False False False False False False False  True False False False\n",
      " False False False False False  True False False False False  True False\n",
      " False False  True False False  True False  True False  True False False\n",
      " False False False False False False False  True False False False False\n",
      " False False False  True False False False False False False False False\n",
      " False False  True False  True False False False False False False False\n",
      " False False False False False False False False False False False False\n",
      " False False False  True False False False False False False  True False\n",
      " False False False False False False False False False  True False False\n",
      " False False False False False False False False  True False False False\n",
      " False False False False False False False False False False False False\n",
      " False False  True False False False False False False False False False\n",
      " False False False False False False False False False False False False\n",
      " False False False False  True False False False False False False False\n",
      " False False False  True False False False False  True False False False\n",
      " False False False False False False  True False False False False False\n",
      " False False False False False False False False False False False False\n",
      " False False False False False False False False False False False False\n",
      " False False False False False False False False False False False False\n",
      " False False False False False  True False  True False False False False\n",
      " False False False False False False False False False  True False False\n",
      " False False False False False False  True False False False False  True\n",
      " False False False False  True  True False False False False False False\n",
      "  True False False False False False  True False False False False False\n",
      " False False  True False False False False False False False False  True\n",
      " False False False False False False False False  True False False False\n",
      " False  True False False False False False False False  True False  True\n",
      " False False False False False False  True False False False False False\n",
      " False False False False False False False False False  True  True False]\n",
      "ModeResult(mode=array([1]), count=array([23]))\n"
     ]
    },
    {
     "ename": "AttributeError",
     "evalue": "'numpy.ndarray' object has no attribute 'target'",
     "output_type": "error",
     "traceback": [
      "\u001b[0;31m---------------------------------------------------------------------------\u001b[0m",
      "\u001b[0;31mAttributeError\u001b[0m                            Traceback (most recent call last)",
      "\u001b[0;32m<ipython-input-59-4b7db3ee72b2>\u001b[0m in \u001b[0;36m<module>\u001b[0;34m\u001b[0m\n\u001b[1;32m     11\u001b[0m     \u001b[0mprint\u001b[0m\u001b[0;34m(\u001b[0m\u001b[0mmask\u001b[0m\u001b[0;34m)\u001b[0m\u001b[0;34m\u001b[0m\u001b[0;34m\u001b[0m\u001b[0m\n\u001b[1;32m     12\u001b[0m     \u001b[0mprint\u001b[0m\u001b[0;34m(\u001b[0m\u001b[0mmode\u001b[0m\u001b[0;34m(\u001b[0m\u001b[0mtestLabel\u001b[0m\u001b[0;34m[\u001b[0m\u001b[0mmask\u001b[0m\u001b[0;34m]\u001b[0m\u001b[0;34m)\u001b[0m\u001b[0;34m)\u001b[0m\u001b[0;34m\u001b[0m\u001b[0;34m\u001b[0m\u001b[0m\n\u001b[0;32m---> 13\u001b[0;31m     \u001b[0mpred\u001b[0m\u001b[0;34m[\u001b[0m\u001b[0mmask\u001b[0m\u001b[0;34m]\u001b[0m \u001b[0;34m=\u001b[0m \u001b[0mmode\u001b[0m\u001b[0;34m(\u001b[0m\u001b[0mtestLabel\u001b[0m\u001b[0;34m.\u001b[0m\u001b[0mtarget\u001b[0m\u001b[0;34m[\u001b[0m\u001b[0mmask\u001b[0m\u001b[0;34m]\u001b[0m\u001b[0;34m)\u001b[0m\u001b[0;34m\u001b[0m\u001b[0;34m\u001b[0m\u001b[0m\n\u001b[0m\u001b[1;32m     14\u001b[0m     \u001b[0;32mbreak\u001b[0m\u001b[0;34m\u001b[0m\u001b[0;34m\u001b[0m\u001b[0m\n",
      "\u001b[0;31mAttributeError\u001b[0m: 'numpy.ndarray' object has no attribute 'target'"
     ]
    }
   ],
   "source": [
    "from scipy.stats import mode\n",
    "\n",
    "pred = np.zeros_like(clusters)\n",
    "\n",
    "kmeans_fit_pred = KMeans(n_clusters = 10, random_state = 13)\n",
    "cluster_fit_pred = kmeans_fit_pred.fit_predict(testData)\n",
    "\n",
    "for i in range(10):\n",
    "    mask = (cluster_fit_pred == i)\n",
    "    print(i)\n",
    "    print(mask)\n",
    "    print(mode(testLabel[mask]))\n",
    "    pred[mask] = mode(testLabel.target[mask])\n",
    "    break\n"
   ]
  },
  {
   "cell_type": "code",
   "execution_count": null,
   "metadata": {},
   "outputs": [],
   "source": []
  }
 ],
 "metadata": {
  "kernelspec": {
   "display_name": "Python 3.7.6 64-bit ('venv': virtualenv)",
   "language": "python",
   "name": "python37664bitvenvvirtualenv06088eb0c7f5454da7c984cf662d97a8"
  },
  "language_info": {
   "codemirror_mode": {
    "name": "ipython",
    "version": 3
   },
   "file_extension": ".py",
   "mimetype": "text/x-python",
   "name": "python",
   "nbconvert_exporter": "python",
   "pygments_lexer": "ipython3",
   "version": "3.7.6"
  }
 },
 "nbformat": 4,
 "nbformat_minor": 4
}
