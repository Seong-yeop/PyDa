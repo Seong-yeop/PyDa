{
 "cells": [
  {
   "cell_type": "code",
   "execution_count": 82,
   "metadata": {},
   "outputs": [],
   "source": [
    "import numpy as np\n",
    "from sklearn import datasets\n",
    "from sklearn.model_selection import train_test_split\n",
    "from sklearn.neighbors import KNeighborsClassifier"
   ]
  },
  {
   "cell_type": "code",
   "execution_count": 83,
   "metadata": {},
   "outputs": [],
   "source": [
    "mnist = datasets.load_digits()"
   ]
  },
  {
   "cell_type": "code",
   "execution_count": 84,
   "metadata": {},
   "outputs": [
    {
     "name": "stdout",
     "output_type": "stream",
     "text": [
      "(1797, 64)\n",
      "[0 1 2 ... 8 9 8]\n",
      "[0 1 2 3 4 5 6 7 8 9]\n"
     ]
    }
   ],
   "source": [
    "print(mnist.data.shape)\n",
    "print(mnist.target)\n",
    "print(mnist.target_names)"
   ]
  },
  {
   "cell_type": "code",
   "execution_count": 85,
   "metadata": {},
   "outputs": [],
   "source": [
    "trainData, testData, trainLabel, testLabel = train_test_split(np.array(mnist.data), mnist.target, \n",
    "                                                              test_size=0.2, random_state = 13)"
   ]
  },
  {
   "cell_type": "code",
   "execution_count": 86,
   "metadata": {},
   "outputs": [],
   "source": [
    "model = KNeighborsClassifier(n_neighbors = 15, weights='uniform')\n",
    "model.fit(trainData, trainLabel)\n",
    "\n",
    "y_pred = model.predict(testData)\n",
    "y_test = testLabel\n"
   ]
  },
  {
   "cell_type": "code",
   "execution_count": 87,
   "metadata": {},
   "outputs": [
    {
     "name": "stdout",
     "output_type": "stream",
     "text": [
      "test accuracy: 0.9805555555555555\n",
      "test precision: 0.9805555555555555\n",
      "test recall: 0.9805555555555555\n",
      "test f1_measure: 0.9805555555555555\n",
      "              precision    recall  f1-score   support\n",
      "\n",
      "           0       1.00      1.00      1.00        30\n",
      "           1       0.90      1.00      0.95        37\n",
      "           2       1.00      1.00      1.00        38\n",
      "           3       1.00      0.97      0.99        37\n",
      "           4       1.00      1.00      1.00        38\n",
      "           5       1.00      0.98      0.99        45\n",
      "           6       1.00      1.00      1.00        42\n",
      "           7       1.00      0.96      0.98        26\n",
      "           8       0.97      0.88      0.92        34\n",
      "           9       0.94      1.00      0.97        33\n",
      "\n",
      "    accuracy                           0.98       360\n",
      "   macro avg       0.98      0.98      0.98       360\n",
      "weighted avg       0.98      0.98      0.98       360\n",
      "\n"
     ]
    }
   ],
   "source": [
    "from sklearn.metrics import accuracy_score, recall_score, precision_score, f1_score, classification_report\n",
    "\n",
    "print('test accuracy: {}'.format(accuracy_score(y_test,y_pred))) # test accuracy\n",
    "print('test precision: {}'.format(precision_score(y_test,y_pred, average='micro'))) # test precision\n",
    "print('test recall: {}'.format(recall_score(y_test,y_pred, average='micro'))) # test recall\n",
    "print('test f1_measure: {}'.format(f1_score(y_test,y_pred, average='micro')))\n",
    "\n",
    "\n",
    "# 앞에서 사용했던 numpy로 계산을 했던 식으로 prediction, recall, f1_measure 로 계산을 하면 \n",
    "# 오류가 발생한다, 그 이유는 무엇일까 ? \n",
    "print(classification_report(y_test,y_pred))\n"
   ]
  },
  {
   "cell_type": "code",
   "execution_count": 81,
   "metadata": {},
   "outputs": [
    {
     "data": {
      "image/png": "[encoded data removed]",
      "text/plain": [
       "<Figure size 720x360 with 5 Axes>"
      ]
     },
     "metadata": {
      "needs_background": "light"
     },
     "output_type": "display_data"
    }
   ],
   "source": [
    "import matplotlib.pyplot as plt\n",
    "images = np.zeros((5,8,8))\n",
    "results = []\n",
    "for i in range(5):\n",
    "    image = testData[np.random.randint(0,high=len(testLabel))]\n",
    "    images[i] = image.reshape((8,8))\n",
    "    pred = model.predict(image.reshape((1,-1)))\n",
    "    results.append(pred.astype(int))\n",
    "\n",
    "_, ax = plt.subplots(1,5, figsize=(10,5))\n",
    "\n",
    "i = 0\n",
    "for axi, image in zip(ax.flat, images):\n",
    "    axi.set_title(results[i][0])\n",
    "    i += 1\n",
    "    axi.imshow(image)\n",
    "    #axi.imshow(image)\n",
    "    \n",
    "plt.tight_layout()"
   ]
  },
  {
   "cell_type": "code",
   "execution_count": null,
   "metadata": {},
   "outputs": [],
   "source": []
  }
 ],
 "metadata": {
  "kernelspec": {
   "display_name": "Python 3.7.6 64-bit ('venv': virtualenv)",
   "language": "python",
   "name": "python37664bitvenvvirtualenv06088eb0c7f5454da7c984cf662d97a8"
  },
  "language_info": {
   "codemirror_mode": {
    "name": "ipython",
    "version": 3
   },
   "file_extension": ".py",
   "mimetype": "text/x-python",
   "name": "python",
   "nbconvert_exporter": "python",
   "pygments_lexer": "ipython3",
   "version": "3.7.6"
  }
 },
 "nbformat": 4,
 "nbformat_minor": 4
}
