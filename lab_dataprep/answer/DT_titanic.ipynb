{
 "cells": [
  {
   "cell_type": "code",
   "execution_count": 132,
   "metadata": {},
   "outputs": [],
   "source": [
    "# decision tree for titanic dataset\n",
    "# 실습 1 \n",
    "\n",
    "import numpy as np\n",
    "import seaborn as sns\n",
    "import pandas as pd\n",
    "from sklearn import datasets, tree, preprocessing\n",
    "from sklearn.model_selection import train_test_split\n",
    "from sklearn.metrics import accuracy_score, recall_score, precision_score, f1_score\n",
    "import matplotlib.pyplot as plt\n",
    "\n",
    "\n",
    "# pip3 install sklearn"
   ]
  },
  {
   "cell_type": "code",
   "execution_count": 133,
   "metadata": {},
   "outputs": [],
   "source": [
    "titanic = sns.load_dataset('titanic')        "
   ]
  },
  {
   "cell_type": "code",
   "execution_count": 112,
   "metadata": {},
   "outputs": [
    {
     "data": {
      "image/png": "[encoded data removed]",
      "text/plain": [
       "<Figure size 432x288 with 1 Axes>"
      ]
     },
     "metadata": {
      "needs_background": "light"
     },
     "output_type": "display_data"
    },
    {
     "data": {
      "image/png": "[encoded data removed]",
      "text/plain": [
       "<Figure size 432x288 with 1 Axes>"
      ]
     },
     "metadata": {
      "needs_background": "light"
     },
     "output_type": "display_data"
    },
    {
     "data": {
      "image/png": "[encoded data removed]",
      "text/plain": [
       "<Figure size 432x288 with 1 Axes>"
      ]
     },
     "metadata": {
      "needs_background": "light"
     },
     "output_type": "display_data"
    }
   ],
   "source": [
    "# Distribution Transformation: Scale()\n",
    "\n",
    "titanic['fare_log'] = preprocessing.scale(np.log(titanic['fare'] + 1))\n",
    "titanic['fare_sqrt'] = preprocessing.scale(np.sqrt(titanic['fare']) + 1)\n",
    "\n",
    "#titanic[['fare', 'fare_sqrt']]\n",
    "\n",
    "plt.hist(titanic['fare'], bins=20)\n",
    "plt.show()\n",
    "\n",
    "plt.hist(titanic['fare_log'], bins=20)\n",
    "plt.show()\n",
    "\n",
    "plt.hist(titanic['fare_sqrt'], bins=20)\n",
    "plt.show()\n"
   ]
  },
  {
   "cell_type": "code",
   "execution_count": 113,
   "metadata": {},
   "outputs": [
    {
     "data": {
      "text/plain": [
       "32.204207968574636"
      ]
     },
     "execution_count": 113,
     "metadata": {},
     "output_type": "execute_result"
    }
   ],
   "source": [
    "titanic.fare.max()\n",
    "titanic[titanic.fare.min() == titanic.fare]\n",
    "titanic.fare.mean()"
   ]
  },
  {
   "cell_type": "code",
   "execution_count": 134,
   "metadata": {},
   "outputs": [
    {
     "name": "stdout",
     "output_type": "stream",
     "text": [
      "(891, 15)\n"
     ]
    },
    {
     "data": {
      "text/plain": [
       "(775, 15)"
      ]
     },
     "execution_count": 134,
     "metadata": {},
     "output_type": "execute_result"
    }
   ],
   "source": [
    "def outliers_iqr(a):\n",
    "    Q1, Q3 = np.percentile(a, [25,75])\n",
    "    IQR = Q3 - Q1\n",
    "    lower_bound = Q1 - (IQR * 1.5)\n",
    "    upper_bound = Q3 + (IQR * 1.5)\n",
    "    return np.array(np.where(np.logical_or(a > upper_bound, a < lower_bound)))\n",
    "\n",
    "\n",
    "data = np.array(titanic.fare)\n",
    "index = outliers_iqr(data)\n",
    "print(titanic.shape)\n",
    "#titanic.iloc[1]\n",
    "titanic.drop(titanic.index[index], inplace=True)\n",
    "titanic.shape"
   ]
  },
  {
   "cell_type": "code",
   "execution_count": 136,
   "metadata": {},
   "outputs": [
    {
     "data": {
      "text/plain": [
       "array([[  1,  27,  31,  34,  52,  61,  62,  72,  88, 102, 118, 120, 124,\n",
       "        139, 151, 159, 180, 195, 201, 215, 218, 224, 230, 245, 256, 257,\n",
       "        258, 262, 268, 269, 275, 290, 291, 297, 299, 305, 306, 307, 310,\n",
       "        311, 318, 319, 324, 325, 332, 334, 336, 337, 341, 366, 369, 373,\n",
       "        375, 377, 380, 385, 390, 393, 412, 435, 438, 445, 453, 484, 486,\n",
       "        496, 498, 504, 505, 520, 527, 537, 540, 544, 550, 557, 558, 581,\n",
       "        585, 587, 591, 609, 627, 641, 645, 655, 659, 660, 665, 679, 681,\n",
       "        689, 698, 700, 708, 716, 730, 737, 741, 742, 745, 759, 763, 765,\n",
       "        779, 789, 792, 802, 820, 829, 835, 846, 849, 856, 863, 879]])"
      ]
     },
     "execution_count": 136,
     "metadata": {},
     "output_type": "execute_result"
    }
   ],
   "source": [
    "index = outliers_iqr(data)\n",
    "index"
   ]
  },
  {
   "cell_type": "code",
   "execution_count": 116,
   "metadata": {},
   "outputs": [
    {
     "name": "stdout",
     "output_type": "stream",
     "text": [
      "0\n"
     ]
    }
   ],
   "source": [
    "# null data는 전처리과정이 필요\n",
    "#print(titanic.isnull().sum()) \n",
    "#print(np.isnan(titanic['age']).sum())\n",
    "\n",
    "mean = titanic.age.mean()\n",
    "\n",
    "titanic.age.fillna(mean, inplace=True)\n",
    "print(np.isnan(titanic['age']).sum())"
   ]
  },
  {
   "cell_type": "code",
   "execution_count": 117,
   "metadata": {},
   "outputs": [
    {
     "data": {
      "text/plain": [
       "Index(['survived', 'pclass', 'sex', 'age', 'sibsp', 'parch', 'fare',\n",
       "       'embarked', 'class', 'who', 'adult_male', 'deck', 'embark_town',\n",
       "       'alive', 'alone', 'fare_log', 'fare_sqrt'],\n",
       "      dtype='object')"
      ]
     },
     "execution_count": 117,
     "metadata": {},
     "output_type": "execute_result"
    }
   ],
   "source": [
    "sex_to_int = {'male' : 0, \"female\" : 1}\n",
    "titanic['sex']= titanic['sex'].map(sex_to_int)\n",
    "titanic.columns"
   ]
  },
  {
   "cell_type": "code",
   "execution_count": 118,
   "metadata": {},
   "outputs": [],
   "source": [
    "data_for_train = ['pclass','sex','age','sibsp','parch', 'fare_log' ]\n",
    "data = titanic[data_for_train]"
   ]
  },
  {
   "cell_type": "code",
   "execution_count": 119,
   "metadata": {},
   "outputs": [],
   "source": [
    "x_train, x_test, y_train, y_test = train_test_split(data, titanic['survived'], test_size = 0.2, random_state = 13)"
   ]
  },
  {
   "cell_type": "code",
   "execution_count": 120,
   "metadata": {},
   "outputs": [
    {
     "data": {
      "text/plain": [
       "149    0\n",
       "5      0\n",
       "415    0\n",
       "476    0\n",
       "292    0\n",
       "      ..\n",
       "387    1\n",
       "654    0\n",
       "634    0\n",
       "4      0\n",
       "255    1\n",
       "Name: survived, Length: 155, dtype: int64"
      ]
     },
     "execution_count": 120,
     "metadata": {},
     "output_type": "execute_result"
    }
   ],
   "source": [
    "y_test"
   ]
  },
  {
   "cell_type": "code",
   "execution_count": 121,
   "metadata": {
    "scrolled": true
   },
   "outputs": [
    {
     "data": {
      "text/plain": [
       "DecisionTreeClassifier(ccp_alpha=0.0, class_weight=None, criterion='gini',\n",
       "                       max_depth=3, max_features=None, max_leaf_nodes=None,\n",
       "                       min_impurity_decrease=0.0, min_impurity_split=None,\n",
       "                       min_samples_leaf=1, min_samples_split=2,\n",
       "                       min_weight_fraction_leaf=0.0, presort='deprecated',\n",
       "                       random_state=13, splitter='best')"
      ]
     },
     "execution_count": 121,
     "metadata": {},
     "output_type": "execute_result"
    }
   ],
   "source": [
    "dt = tree.DecisionTreeClassifier(max_depth=3, random_state=13)\n",
    "dt.fit(x_train,y_train)"
   ]
  },
  {
   "cell_type": "code",
   "execution_count": null,
   "metadata": {},
   "outputs": [],
   "source": []
  },
  {
   "cell_type": "code",
   "execution_count": 122,
   "metadata": {},
   "outputs": [
    {
     "name": "stdout",
     "output_type": "stream",
     "text": [
      "score 0.8209677419354838\n"
     ]
    }
   ],
   "source": [
    "print('score {}'.format(dt.score(x_train,y_train))) #train accuracy"
   ]
  },
  {
   "cell_type": "code",
   "execution_count": 73,
   "metadata": {},
   "outputs": [
    {
     "name": "stdout",
     "output_type": "stream",
     "text": [
      "test accuracy: 0.8258064516129032\n",
      "test precision: 0.8076923076923077\n",
      "test recall: 0.711864406779661\n",
      "test f1_measure: 0.7567567567567568\n",
      "\n",
      "test accuracy(numpy ver.) : 0.8258064516129032\n",
      "test precision(numpy ver.) : 0.8076923076923077\n",
      "test recll(numpy ver.) 0.711864406779661\n",
      "test f1_measure(numpy ver.): 0.7567567567567568\n"
     ]
    }
   ],
   "source": [
    "# 다양한 기준으로 성능을 평가할 수 있습니다.\n",
    "from sklearn.metrics import accuracy_score, recall_score, precision_score, f1_score\n",
    "\n",
    "\n",
    "y_pred = dt.predict(x_test)\n",
    "print('test accuracy: {}'.format(accuracy_score(y_test,y_pred))) # test accuracy\n",
    "print('test precision: {}'.format(precision_score(y_test,y_pred))) # test precision\n",
    "print('test recall: {}'.format(recall_score(y_test,y_pred))) # test recall\n",
    "print('test f1_measure: {}'.format(f1_score(y_test,y_pred)))\n",
    "\n",
    "print()\n",
    "\n",
    "# numpy 활용해서 구해보기 잠깐 문제 !! (!!)\n",
    "precision = np.sum(y_test*y_pred)/np.sum(y_pred)\n",
    "recall = np.sum(y_test*y_pred)/np.sum(y_test)\n",
    "f1_measure = 2* (precision * recall) / (precision + recall)\n",
    "\n",
    "print('test accuracy(numpy ver.) :', np.mean(np.equal(y_test,y_pred)))      # 정확한 의미는 \n",
    "print('test precision(numpy ver.) :',precision ) # 생각이 가물가물\n",
    "print('test recll(numpy ver.)', recall)       # 그럼에도 공부를 ... \n",
    "print('test f1_measure(numpy ver.): {}'.format(f1_measure))\n",
    "\n",
    "\n",
    "#precision(정밀도) : prediction(예상)이 1일 때, 실제로 1일 확률 (살아있다고 예상했을 때, 살아 있을 확률)\n",
    "#recall(재현율) : 실제 1일때, prediction(예상)이 1일 확률 \n",
    "#f1_measure(f_measure) : precision과 recall의 조화평균  "
   ]
  },
  {
   "cell_type": "code",
   "execution_count": 74,
   "metadata": {},
   "outputs": [
    {
     "name": "stdout",
     "output_type": "stream",
     "text": [
      "(155,)\n",
      "(155,)\n"
     ]
    }
   ],
   "source": [
    "print(y_test.shape)\n",
    "print(y_pred.shape)"
   ]
  },
  {
   "cell_type": "code",
   "execution_count": 75,
   "metadata": {},
   "outputs": [
    {
     "name": "stdout",
     "output_type": "stream",
     "text": [
      "[0]\n",
      "[[0.90595611 0.09404389]]\n"
     ]
    }
   ],
   "source": [
    "# test someone\n",
    "# data_for_train = ['pclass','sex','age','sibsp','parch', 'fare' ]\n",
    "jane = np.array([1,0,60,0,0,1])\n",
    "liam = np.array([2,2,40,1,4,1])\n",
    "\n",
    "pred = dt.predict([jane])\n",
    "\n",
    "print(pred) # 1 : survived\n",
    "\n",
    "print(dt.predict_proba([jane]))\n"
   ]
  },
  {
   "cell_type": "code",
   "execution_count": 76,
   "metadata": {},
   "outputs": [],
   "source": [
    "from sklearn.tree import export_graphviz\n",
    "export_graphviz(\n",
    "    dt,\n",
    "    out_file = \"titanic.dot\",\n",
    "    feature_names = ['pclass','sex','age','sibsp','parch', 'fare' ],\n",
    "    class_names = ['unsurvived', 'survived']\n",
    ")"
   ]
  },
  {
   "cell_type": "code",
   "execution_count": 35,
   "metadata": {},
   "outputs": [
    {
     "data": {
      "image/svg+xml": [
       "<?xml version=\"1.0\" encoding=\"UTF-8\" standalone=\"no\"?>\n",
       "<!DOCTYPE svg PUBLIC \"-//W3C//DTD SVG 1.1//EN\"\n",
       " \"http://www.w3.org/Graphics/SVG/1.1/DTD/svg11.dtd\">\n",
       "<!-- Generated by graphviz version 2.43.0 (0)\n",
       " -->\n",
       "<!-- Title: Tree Pages: 1 -->\n",
       "<svg width=\"1038pt\" height=\"414pt\"\n",
       " viewBox=\"0.00 0.00 1038.32 414.00\" xmlns=\"http://www.w3.org/2000/svg\" xmlns:xlink=\"http://www.w3.org/1999/xlink\">\n",
       "<g id=\"graph0\" class=\"graph\" transform=\"scale(1 1) rotate(0) translate(4 410)\">\n",
       "<title>Tree</title>\n",
       "<polygon fill=\"white\" stroke=\"transparent\" points=\"-4,4 -4,-410 1034.32,-410 1034.32,4 -4,4\"/>\n",
       "<!-- 0 -->\n",
       "<g id=\"node1\" class=\"node\">\n",
       "<title>0</title>\n",
       "<polygon fill=\"none\" stroke=\"black\" points=\"583.49,-406 462.84,-406 462.84,-328 583.49,-328 583.49,-406\"/>\n",
       "<text text-anchor=\"middle\" x=\"523.16\" y=\"-390.8\" font-family=\"Times,serif\" font-size=\"14.00\">sex &lt;= 0.5</text>\n",
       "<text text-anchor=\"middle\" x=\"523.16\" y=\"-376.8\" font-family=\"Times,serif\" font-size=\"14.00\">gini = 0.473</text>\n",
       "<text text-anchor=\"middle\" x=\"523.16\" y=\"-362.8\" font-family=\"Times,serif\" font-size=\"14.00\">samples = 712</text>\n",
       "<text text-anchor=\"middle\" x=\"523.16\" y=\"-348.8\" font-family=\"Times,serif\" font-size=\"14.00\">value = [439, 273]</text>\n",
       "<text text-anchor=\"middle\" x=\"523.16\" y=\"-334.8\" font-family=\"Times,serif\" font-size=\"14.00\">class = unsurvived</text>\n",
       "</g>\n",
       "<!-- 1 -->\n",
       "<g id=\"node2\" class=\"node\">\n",
       "<title>1</title>\n",
       "<polygon fill=\"none\" stroke=\"black\" points=\"449.49,-292 328.84,-292 328.84,-214 449.49,-214 449.49,-292\"/>\n",
       "<text text-anchor=\"middle\" x=\"389.16\" y=\"-276.8\" font-family=\"Times,serif\" font-size=\"14.00\">age &lt;= 13.0</text>\n",
       "<text text-anchor=\"middle\" x=\"389.16\" y=\"-262.8\" font-family=\"Times,serif\" font-size=\"14.00\">gini = 0.321</text>\n",
       "<text text-anchor=\"middle\" x=\"389.16\" y=\"-248.8\" font-family=\"Times,serif\" font-size=\"14.00\">samples = 469</text>\n",
       "<text text-anchor=\"middle\" x=\"389.16\" y=\"-234.8\" font-family=\"Times,serif\" font-size=\"14.00\">value = [375, 94]</text>\n",
       "<text text-anchor=\"middle\" x=\"389.16\" y=\"-220.8\" font-family=\"Times,serif\" font-size=\"14.00\">class = unsurvived</text>\n",
       "</g>\n",
       "<!-- 0&#45;&gt;1 -->\n",
       "<g id=\"edge1\" class=\"edge\">\n",
       "<title>0&#45;&gt;1</title>\n",
       "<path fill=\"none\" stroke=\"black\" d=\"M477.42,-327.77C466.21,-318.4 454.11,-308.29 442.58,-298.64\"/>\n",
       "<polygon fill=\"black\" stroke=\"black\" points=\"444.61,-295.79 434.7,-292.06 440.12,-301.16 444.61,-295.79\"/>\n",
       "<text text-anchor=\"middle\" x=\"436.92\" y=\"-312.76\" font-family=\"Times,serif\" font-size=\"14.00\">True</text>\n",
       "</g>\n",
       "<!-- 8 -->\n",
       "<g id=\"node9\" class=\"node\">\n",
       "<title>8</title>\n",
       "<polygon fill=\"none\" stroke=\"black\" points=\"705.2,-292 593.12,-292 593.12,-214 705.2,-214 705.2,-292\"/>\n",
       "<text text-anchor=\"middle\" x=\"649.16\" y=\"-276.8\" font-family=\"Times,serif\" font-size=\"14.00\">pclass &lt;= 2.5</text>\n",
       "<text text-anchor=\"middle\" x=\"649.16\" y=\"-262.8\" font-family=\"Times,serif\" font-size=\"14.00\">gini = 0.388</text>\n",
       "<text text-anchor=\"middle\" x=\"649.16\" y=\"-248.8\" font-family=\"Times,serif\" font-size=\"14.00\">samples = 243</text>\n",
       "<text text-anchor=\"middle\" x=\"649.16\" y=\"-234.8\" font-family=\"Times,serif\" font-size=\"14.00\">value = [64, 179]</text>\n",
       "<text text-anchor=\"middle\" x=\"649.16\" y=\"-220.8\" font-family=\"Times,serif\" font-size=\"14.00\">class = survived</text>\n",
       "</g>\n",
       "<!-- 0&#45;&gt;8 -->\n",
       "<g id=\"edge8\" class=\"edge\">\n",
       "<title>0&#45;&gt;8</title>\n",
       "<path fill=\"none\" stroke=\"black\" d=\"M566.17,-327.77C576.61,-318.49 587.87,-308.48 598.62,-298.92\"/>\n",
       "<polygon fill=\"black\" stroke=\"black\" points=\"601.2,-301.32 606.35,-292.06 596.55,-296.09 601.2,-301.32\"/>\n",
       "<text text-anchor=\"middle\" x=\"604.88\" y=\"-312.82\" font-family=\"Times,serif\" font-size=\"14.00\">False</text>\n",
       "</g>\n",
       "<!-- 2 -->\n",
       "<g id=\"node3\" class=\"node\">\n",
       "<title>2</title>\n",
       "<polygon fill=\"none\" stroke=\"black\" points=\"237.49,-178 130.84,-178 130.84,-100 237.49,-100 237.49,-178\"/>\n",
       "<text text-anchor=\"middle\" x=\"184.16\" y=\"-162.8\" font-family=\"Times,serif\" font-size=\"14.00\">sibsp &lt;= 2.5</text>\n",
       "<text text-anchor=\"middle\" x=\"184.16\" y=\"-148.8\" font-family=\"Times,serif\" font-size=\"14.00\">gini = 0.478</text>\n",
       "<text text-anchor=\"middle\" x=\"184.16\" y=\"-134.8\" font-family=\"Times,serif\" font-size=\"14.00\">samples = 33</text>\n",
       "<text text-anchor=\"middle\" x=\"184.16\" y=\"-120.8\" font-family=\"Times,serif\" font-size=\"14.00\">value = [13, 20]</text>\n",
       "<text text-anchor=\"middle\" x=\"184.16\" y=\"-106.8\" font-family=\"Times,serif\" font-size=\"14.00\">class = survived</text>\n",
       "</g>\n",
       "<!-- 1&#45;&gt;2 -->\n",
       "<g id=\"edge2\" class=\"edge\">\n",
       "<title>1&#45;&gt;2</title>\n",
       "<path fill=\"none\" stroke=\"black\" d=\"M328.76,-219C302.88,-204.86 272.66,-188.35 246.56,-174.09\"/>\n",
       "<polygon fill=\"black\" stroke=\"black\" points=\"247.97,-170.87 237.51,-169.15 244.61,-177.01 247.97,-170.87\"/>\n",
       "</g>\n",
       "<!-- 5 -->\n",
       "<g id=\"node6\" class=\"node\">\n",
       "<title>5</title>\n",
       "<polygon fill=\"none\" stroke=\"black\" points=\"449.49,-178 328.84,-178 328.84,-100 449.49,-100 449.49,-178\"/>\n",
       "<text text-anchor=\"middle\" x=\"389.16\" y=\"-162.8\" font-family=\"Times,serif\" font-size=\"14.00\">pclass &lt;= 1.5</text>\n",
       "<text text-anchor=\"middle\" x=\"389.16\" y=\"-148.8\" font-family=\"Times,serif\" font-size=\"14.00\">gini = 0.282</text>\n",
       "<text text-anchor=\"middle\" x=\"389.16\" y=\"-134.8\" font-family=\"Times,serif\" font-size=\"14.00\">samples = 436</text>\n",
       "<text text-anchor=\"middle\" x=\"389.16\" y=\"-120.8\" font-family=\"Times,serif\" font-size=\"14.00\">value = [362, 74]</text>\n",
       "<text text-anchor=\"middle\" x=\"389.16\" y=\"-106.8\" font-family=\"Times,serif\" font-size=\"14.00\">class = unsurvived</text>\n",
       "</g>\n",
       "<!-- 1&#45;&gt;5 -->\n",
       "<g id=\"edge5\" class=\"edge\">\n",
       "<title>1&#45;&gt;5</title>\n",
       "<path fill=\"none\" stroke=\"black\" d=\"M389.16,-213.77C389.16,-205.57 389.16,-196.8 389.16,-188.28\"/>\n",
       "<polygon fill=\"black\" stroke=\"black\" points=\"392.66,-188.06 389.16,-178.06 385.66,-188.06 392.66,-188.06\"/>\n",
       "</g>\n",
       "<!-- 3 -->\n",
       "<g id=\"node4\" class=\"node\">\n",
       "<title>3</title>\n",
       "<polygon fill=\"none\" stroke=\"black\" points=\"106.49,-64 -0.16,-64 -0.16,0 106.49,0 106.49,-64\"/>\n",
       "<text text-anchor=\"middle\" x=\"53.16\" y=\"-48.8\" font-family=\"Times,serif\" font-size=\"14.00\">gini = 0.095</text>\n",
       "<text text-anchor=\"middle\" x=\"53.16\" y=\"-34.8\" font-family=\"Times,serif\" font-size=\"14.00\">samples = 20</text>\n",
       "<text text-anchor=\"middle\" x=\"53.16\" y=\"-20.8\" font-family=\"Times,serif\" font-size=\"14.00\">value = [1, 19]</text>\n",
       "<text text-anchor=\"middle\" x=\"53.16\" y=\"-6.8\" font-family=\"Times,serif\" font-size=\"14.00\">class = survived</text>\n",
       "</g>\n",
       "<!-- 2&#45;&gt;3 -->\n",
       "<g id=\"edge3\" class=\"edge\">\n",
       "<title>2&#45;&gt;3</title>\n",
       "<path fill=\"none\" stroke=\"black\" d=\"M136.5,-99.8C124.61,-90.27 111.87,-80.06 100.02,-70.56\"/>\n",
       "<polygon fill=\"black\" stroke=\"black\" points=\"101.98,-67.64 91.98,-64.12 97.6,-73.1 101.98,-67.64\"/>\n",
       "</g>\n",
       "<!-- 4 -->\n",
       "<g id=\"node5\" class=\"node\">\n",
       "<title>4</title>\n",
       "<polygon fill=\"none\" stroke=\"black\" points=\"244.49,-64 123.84,-64 123.84,0 244.49,0 244.49,-64\"/>\n",
       "<text text-anchor=\"middle\" x=\"184.16\" y=\"-48.8\" font-family=\"Times,serif\" font-size=\"14.00\">gini = 0.142</text>\n",
       "<text text-anchor=\"middle\" x=\"184.16\" y=\"-34.8\" font-family=\"Times,serif\" font-size=\"14.00\">samples = 13</text>\n",
       "<text text-anchor=\"middle\" x=\"184.16\" y=\"-20.8\" font-family=\"Times,serif\" font-size=\"14.00\">value = [12, 1]</text>\n",
       "<text text-anchor=\"middle\" x=\"184.16\" y=\"-6.8\" font-family=\"Times,serif\" font-size=\"14.00\">class = unsurvived</text>\n",
       "</g>\n",
       "<!-- 2&#45;&gt;4 -->\n",
       "<g id=\"edge4\" class=\"edge\">\n",
       "<title>2&#45;&gt;4</title>\n",
       "<path fill=\"none\" stroke=\"black\" d=\"M184.16,-99.8C184.16,-91.46 184.16,-82.6 184.16,-74.15\"/>\n",
       "<polygon fill=\"black\" stroke=\"black\" points=\"187.66,-74.12 184.16,-64.12 180.66,-74.12 187.66,-74.12\"/>\n",
       "</g>\n",
       "<!-- 6 -->\n",
       "<g id=\"node7\" class=\"node\">\n",
       "<title>6</title>\n",
       "<polygon fill=\"none\" stroke=\"black\" points=\"382.49,-64 261.84,-64 261.84,0 382.49,0 382.49,-64\"/>\n",
       "<text text-anchor=\"middle\" x=\"322.16\" y=\"-48.8\" font-family=\"Times,serif\" font-size=\"14.00\">gini = 0.453</text>\n",
       "<text text-anchor=\"middle\" x=\"322.16\" y=\"-34.8\" font-family=\"Times,serif\" font-size=\"14.00\">samples = 104</text>\n",
       "<text text-anchor=\"middle\" x=\"322.16\" y=\"-20.8\" font-family=\"Times,serif\" font-size=\"14.00\">value = [68, 36]</text>\n",
       "<text text-anchor=\"middle\" x=\"322.16\" y=\"-6.8\" font-family=\"Times,serif\" font-size=\"14.00\">class = unsurvived</text>\n",
       "</g>\n",
       "<!-- 5&#45;&gt;6 -->\n",
       "<g id=\"edge6\" class=\"edge\">\n",
       "<title>5&#45;&gt;6</title>\n",
       "<path fill=\"none\" stroke=\"black\" d=\"M364.78,-99.8C359.17,-91 353.19,-81.63 347.54,-72.76\"/>\n",
       "<polygon fill=\"black\" stroke=\"black\" points=\"350.35,-70.66 342.02,-64.12 344.45,-74.43 350.35,-70.66\"/>\n",
       "</g>\n",
       "<!-- 7 -->\n",
       "<g id=\"node8\" class=\"node\">\n",
       "<title>7</title>\n",
       "<polygon fill=\"none\" stroke=\"black\" points=\"520.49,-64 399.84,-64 399.84,0 520.49,0 520.49,-64\"/>\n",
       "<text text-anchor=\"middle\" x=\"460.16\" y=\"-48.8\" font-family=\"Times,serif\" font-size=\"14.00\">gini = 0.203</text>\n",
       "<text text-anchor=\"middle\" x=\"460.16\" y=\"-34.8\" font-family=\"Times,serif\" font-size=\"14.00\">samples = 332</text>\n",
       "<text text-anchor=\"middle\" x=\"460.16\" y=\"-20.8\" font-family=\"Times,serif\" font-size=\"14.00\">value = [294, 38]</text>\n",
       "<text text-anchor=\"middle\" x=\"460.16\" y=\"-6.8\" font-family=\"Times,serif\" font-size=\"14.00\">class = unsurvived</text>\n",
       "</g>\n",
       "<!-- 5&#45;&gt;7 -->\n",
       "<g id=\"edge7\" class=\"edge\">\n",
       "<title>5&#45;&gt;7</title>\n",
       "<path fill=\"none\" stroke=\"black\" d=\"M415,-99.8C421,-90.91 427.41,-81.43 433.46,-72.49\"/>\n",
       "<polygon fill=\"black\" stroke=\"black\" points=\"436.42,-74.36 439.12,-64.12 430.62,-70.44 436.42,-74.36\"/>\n",
       "</g>\n",
       "<!-- 9 -->\n",
       "<g id=\"node10\" class=\"node\">\n",
       "<title>9</title>\n",
       "<polygon fill=\"none\" stroke=\"black\" points=\"702.49,-178 595.84,-178 595.84,-100 702.49,-100 702.49,-178\"/>\n",
       "<text text-anchor=\"middle\" x=\"649.16\" y=\"-162.8\" font-family=\"Times,serif\" font-size=\"14.00\">fare &lt;= 28.856</text>\n",
       "<text text-anchor=\"middle\" x=\"649.16\" y=\"-148.8\" font-family=\"Times,serif\" font-size=\"14.00\">gini = 0.102</text>\n",
       "<text text-anchor=\"middle\" x=\"649.16\" y=\"-134.8\" font-family=\"Times,serif\" font-size=\"14.00\">samples = 130</text>\n",
       "<text text-anchor=\"middle\" x=\"649.16\" y=\"-120.8\" font-family=\"Times,serif\" font-size=\"14.00\">value = [7, 123]</text>\n",
       "<text text-anchor=\"middle\" x=\"649.16\" y=\"-106.8\" font-family=\"Times,serif\" font-size=\"14.00\">class = survived</text>\n",
       "</g>\n",
       "<!-- 8&#45;&gt;9 -->\n",
       "<g id=\"edge9\" class=\"edge\">\n",
       "<title>8&#45;&gt;9</title>\n",
       "<path fill=\"none\" stroke=\"black\" d=\"M649.16,-213.77C649.16,-205.57 649.16,-196.8 649.16,-188.28\"/>\n",
       "<polygon fill=\"black\" stroke=\"black\" points=\"652.66,-188.06 649.16,-178.06 645.66,-188.06 652.66,-188.06\"/>\n",
       "</g>\n",
       "<!-- 12 -->\n",
       "<g id=\"node13\" class=\"node\">\n",
       "<title>12</title>\n",
       "<polygon fill=\"none\" stroke=\"black\" points=\"899.49,-178 778.84,-178 778.84,-100 899.49,-100 899.49,-178\"/>\n",
       "<text text-anchor=\"middle\" x=\"839.16\" y=\"-162.8\" font-family=\"Times,serif\" font-size=\"14.00\">fare &lt;= 7.888</text>\n",
       "<text text-anchor=\"middle\" x=\"839.16\" y=\"-148.8\" font-family=\"Times,serif\" font-size=\"14.00\">gini = 0.5</text>\n",
       "<text text-anchor=\"middle\" x=\"839.16\" y=\"-134.8\" font-family=\"Times,serif\" font-size=\"14.00\">samples = 113</text>\n",
       "<text text-anchor=\"middle\" x=\"839.16\" y=\"-120.8\" font-family=\"Times,serif\" font-size=\"14.00\">value = [57, 56]</text>\n",
       "<text text-anchor=\"middle\" x=\"839.16\" y=\"-106.8\" font-family=\"Times,serif\" font-size=\"14.00\">class = unsurvived</text>\n",
       "</g>\n",
       "<!-- 8&#45;&gt;12 -->\n",
       "<g id=\"edge12\" class=\"edge\">\n",
       "<title>8&#45;&gt;12</title>\n",
       "<path fill=\"none\" stroke=\"black\" d=\"M705.4,-218.85C725.69,-206.89 748.83,-193.25 770.1,-180.71\"/>\n",
       "<polygon fill=\"black\" stroke=\"black\" points=\"771.93,-183.7 778.77,-175.6 768.37,-177.66 771.93,-183.7\"/>\n",
       "</g>\n",
       "<!-- 10 -->\n",
       "<g id=\"node11\" class=\"node\">\n",
       "<title>10</title>\n",
       "<polygon fill=\"none\" stroke=\"black\" points=\"644.49,-64 537.84,-64 537.84,0 644.49,0 644.49,-64\"/>\n",
       "<text text-anchor=\"middle\" x=\"591.16\" y=\"-48.8\" font-family=\"Times,serif\" font-size=\"14.00\">gini = 0.222</text>\n",
       "<text text-anchor=\"middle\" x=\"591.16\" y=\"-34.8\" font-family=\"Times,serif\" font-size=\"14.00\">samples = 55</text>\n",
       "<text text-anchor=\"middle\" x=\"591.16\" y=\"-20.8\" font-family=\"Times,serif\" font-size=\"14.00\">value = [7, 48]</text>\n",
       "<text text-anchor=\"middle\" x=\"591.16\" y=\"-6.8\" font-family=\"Times,serif\" font-size=\"14.00\">class = survived</text>\n",
       "</g>\n",
       "<!-- 9&#45;&gt;10 -->\n",
       "<g id=\"edge10\" class=\"edge\">\n",
       "<title>9&#45;&gt;10</title>\n",
       "<path fill=\"none\" stroke=\"black\" d=\"M628.06,-99.8C623.25,-91.09 618.13,-81.82 613.28,-73.04\"/>\n",
       "<polygon fill=\"black\" stroke=\"black\" points=\"616.25,-71.18 608.35,-64.12 610.12,-74.56 616.25,-71.18\"/>\n",
       "</g>\n",
       "<!-- 11 -->\n",
       "<g id=\"node12\" class=\"node\">\n",
       "<title>11</title>\n",
       "<polygon fill=\"none\" stroke=\"black\" points=\"768.49,-64 661.84,-64 661.84,0 768.49,0 768.49,-64\"/>\n",
       "<text text-anchor=\"middle\" x=\"715.16\" y=\"-48.8\" font-family=\"Times,serif\" font-size=\"14.00\">gini = 0.0</text>\n",
       "<text text-anchor=\"middle\" x=\"715.16\" y=\"-34.8\" font-family=\"Times,serif\" font-size=\"14.00\">samples = 75</text>\n",
       "<text text-anchor=\"middle\" x=\"715.16\" y=\"-20.8\" font-family=\"Times,serif\" font-size=\"14.00\">value = [0, 75]</text>\n",
       "<text text-anchor=\"middle\" x=\"715.16\" y=\"-6.8\" font-family=\"Times,serif\" font-size=\"14.00\">class = survived</text>\n",
       "</g>\n",
       "<!-- 9&#45;&gt;11 -->\n",
       "<g id=\"edge11\" class=\"edge\">\n",
       "<title>9&#45;&gt;11</title>\n",
       "<path fill=\"none\" stroke=\"black\" d=\"M673.18,-99.8C678.7,-91 684.6,-81.63 690.17,-72.76\"/>\n",
       "<polygon fill=\"black\" stroke=\"black\" points=\"693.24,-74.45 695.6,-64.12 687.32,-70.72 693.24,-74.45\"/>\n",
       "</g>\n",
       "<!-- 13 -->\n",
       "<g id=\"node14\" class=\"node\">\n",
       "<title>13</title>\n",
       "<polygon fill=\"none\" stroke=\"black\" points=\"892.49,-64 785.84,-64 785.84,0 892.49,0 892.49,-64\"/>\n",
       "<text text-anchor=\"middle\" x=\"839.16\" y=\"-48.8\" font-family=\"Times,serif\" font-size=\"14.00\">gini = 0.334</text>\n",
       "<text text-anchor=\"middle\" x=\"839.16\" y=\"-34.8\" font-family=\"Times,serif\" font-size=\"14.00\">samples = 33</text>\n",
       "<text text-anchor=\"middle\" x=\"839.16\" y=\"-20.8\" font-family=\"Times,serif\" font-size=\"14.00\">value = [7, 26]</text>\n",
       "<text text-anchor=\"middle\" x=\"839.16\" y=\"-6.8\" font-family=\"Times,serif\" font-size=\"14.00\">class = survived</text>\n",
       "</g>\n",
       "<!-- 12&#45;&gt;13 -->\n",
       "<g id=\"edge13\" class=\"edge\">\n",
       "<title>12&#45;&gt;13</title>\n",
       "<path fill=\"none\" stroke=\"black\" d=\"M839.16,-99.8C839.16,-91.46 839.16,-82.6 839.16,-74.15\"/>\n",
       "<polygon fill=\"black\" stroke=\"black\" points=\"842.66,-74.12 839.16,-64.12 835.66,-74.12 842.66,-74.12\"/>\n",
       "</g>\n",
       "<!-- 14 -->\n",
       "<g id=\"node15\" class=\"node\">\n",
       "<title>14</title>\n",
       "<polygon fill=\"none\" stroke=\"black\" points=\"1030.49,-64 909.84,-64 909.84,0 1030.49,0 1030.49,-64\"/>\n",
       "<text text-anchor=\"middle\" x=\"970.16\" y=\"-48.8\" font-family=\"Times,serif\" font-size=\"14.00\">gini = 0.469</text>\n",
       "<text text-anchor=\"middle\" x=\"970.16\" y=\"-34.8\" font-family=\"Times,serif\" font-size=\"14.00\">samples = 80</text>\n",
       "<text text-anchor=\"middle\" x=\"970.16\" y=\"-20.8\" font-family=\"Times,serif\" font-size=\"14.00\">value = [50, 30]</text>\n",
       "<text text-anchor=\"middle\" x=\"970.16\" y=\"-6.8\" font-family=\"Times,serif\" font-size=\"14.00\">class = unsurvived</text>\n",
       "</g>\n",
       "<!-- 12&#45;&gt;14 -->\n",
       "<g id=\"edge14\" class=\"edge\">\n",
       "<title>12&#45;&gt;14</title>\n",
       "<path fill=\"none\" stroke=\"black\" d=\"M886.83,-99.8C898.71,-90.27 911.45,-80.06 923.3,-70.56\"/>\n",
       "<polygon fill=\"black\" stroke=\"black\" points=\"925.73,-73.1 931.34,-64.12 921.35,-67.64 925.73,-73.1\"/>\n",
       "</g>\n",
       "</g>\n",
       "</svg>\n"
      ],
      "text/plain": [
       "<graphviz.files.Source at 0x12221fe50>"
      ]
     },
     "execution_count": 35,
     "metadata": {},
     "output_type": "execute_result"
    }
   ],
   "source": [
    "# 그림도 볼 수 있습니다. \n",
    "\n",
    "import graphviz\n",
    "with open('titanic.dot') as f:\n",
    "    dot_graph = f.read()\n",
    "dot=graphviz.Source(dot_graph)\n",
    "dot.format = 'png'\n",
    "dot.render(filename='titanic_tree', directory = './', cleanup=True)\n",
    "\n",
    "dot\n"
   ]
  },
  {
   "cell_type": "code",
   "execution_count": null,
   "metadata": {},
   "outputs": [],
   "source": []
  }
 ],
 "metadata": {
  "kernelspec": {
   "display_name": "Python 3.7.6 64-bit ('venv': virtualenv)",
   "language": "python",
   "name": "python37664bitvenvvirtualenv06088eb0c7f5454da7c984cf662d97a8"
  },
  "language_info": {
   "codemirror_mode": {
    "name": "ipython",
    "version": 3
   },
   "file_extension": ".py",
   "mimetype": "text/x-python",
   "name": "python",
   "nbconvert_exporter": "python",
   "pygments_lexer": "ipython3",
   "version": "3.7.6"
  }
 },
 "nbformat": 4,
 "nbformat_minor": 4
}
